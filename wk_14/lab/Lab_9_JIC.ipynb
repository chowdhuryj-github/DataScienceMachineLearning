{
 "cells": [
  {
   "cell_type": "markdown",
   "id": "bd347b11",
   "metadata": {},
   "source": [
    "# <font color='#d35400'> Lab 9 | Classification </font>\n",
    "In this lab, we use classification methods to predict whether breast tissue samples are malignant or benign. We set up an experiment, train a baseline model, perform feature selection, statistically compare candidate models to see if one approach outperforms another, and then perform a final training and characterization of the logistic regression model using appropriate features.\n",
    "\n",
    "<p align=\"center\">\n",
    "  <img src=\"raccoon.jpg\" alt=\"Raccoon\" width=\"400\"/>\n",
    "</p>"
   ]
  },
  {
   "cell_type": "markdown",
   "id": "43b26f1b",
   "metadata": {},
   "source": [
    "## <font color = '#FF8C00'> Section 1 </font> | Loading the Data\n",
    "In this section, we load the data and standardize the features. We then characterize the dependent variable and plot a bar chart of the diagnosis values. Lastly, we include a short description of the dataset. "
   ]
  },
  {
   "cell_type": "markdown",
   "id": "e166f26c",
   "metadata": {},
   "source": [
    "### <font color = '#FF8C00'> Standardizing the Features </font>\n",
    "We start this section by first standardizing the numerical features. We achieve this by using the `StandardScaler()` to do just that."
   ]
  },
  {
   "cell_type": "code",
   "execution_count": 1,
   "id": "fa91dc34",
   "metadata": {},
   "outputs": [
    {
     "data": {
      "text/html": [
       "<div>\n",
       "<style scoped>\n",
       "    .dataframe tbody tr th:only-of-type {\n",
       "        vertical-align: middle;\n",
       "    }\n",
       "\n",
       "    .dataframe tbody tr th {\n",
       "        vertical-align: top;\n",
       "    }\n",
       "\n",
       "    .dataframe thead th {\n",
       "        text-align: right;\n",
       "    }\n",
       "</style>\n",
       "<table border=\"1\" class=\"dataframe\">\n",
       "  <thead>\n",
       "    <tr style=\"text-align: right;\">\n",
       "      <th></th>\n",
       "      <th>Diagnosis</th>\n",
       "      <th>radius1</th>\n",
       "      <th>texture1</th>\n",
       "      <th>perimeter1</th>\n",
       "      <th>area1</th>\n",
       "      <th>smoothness1</th>\n",
       "      <th>compactness1</th>\n",
       "      <th>concavity1</th>\n",
       "      <th>concave_points1</th>\n",
       "      <th>symmetry1</th>\n",
       "      <th>...</th>\n",
       "      <th>radius3</th>\n",
       "      <th>texture3</th>\n",
       "      <th>perimeter3</th>\n",
       "      <th>area3</th>\n",
       "      <th>smoothness3</th>\n",
       "      <th>compactness3</th>\n",
       "      <th>concavity3</th>\n",
       "      <th>concave_points3</th>\n",
       "      <th>symmetry3</th>\n",
       "      <th>fractal_dimension3</th>\n",
       "    </tr>\n",
       "  </thead>\n",
       "  <tbody>\n",
       "    <tr>\n",
       "      <th>0</th>\n",
       "      <td>1</td>\n",
       "      <td>20.57</td>\n",
       "      <td>17.77</td>\n",
       "      <td>132.90</td>\n",
       "      <td>1326.0</td>\n",
       "      <td>0.08474</td>\n",
       "      <td>0.07864</td>\n",
       "      <td>0.08690</td>\n",
       "      <td>0.07017</td>\n",
       "      <td>0.1812</td>\n",
       "      <td>...</td>\n",
       "      <td>24.990</td>\n",
       "      <td>23.41</td>\n",
       "      <td>158.80</td>\n",
       "      <td>1956.0</td>\n",
       "      <td>0.12380</td>\n",
       "      <td>0.18660</td>\n",
       "      <td>0.2416</td>\n",
       "      <td>0.1860</td>\n",
       "      <td>0.2750</td>\n",
       "      <td>0.08902</td>\n",
       "    </tr>\n",
       "    <tr>\n",
       "      <th>1</th>\n",
       "      <td>1</td>\n",
       "      <td>19.69</td>\n",
       "      <td>21.25</td>\n",
       "      <td>130.00</td>\n",
       "      <td>1203.0</td>\n",
       "      <td>0.10960</td>\n",
       "      <td>0.15990</td>\n",
       "      <td>0.19740</td>\n",
       "      <td>0.12790</td>\n",
       "      <td>0.2069</td>\n",
       "      <td>...</td>\n",
       "      <td>23.570</td>\n",
       "      <td>25.53</td>\n",
       "      <td>152.50</td>\n",
       "      <td>1709.0</td>\n",
       "      <td>0.14440</td>\n",
       "      <td>0.42450</td>\n",
       "      <td>0.4504</td>\n",
       "      <td>0.2430</td>\n",
       "      <td>0.3613</td>\n",
       "      <td>0.08758</td>\n",
       "    </tr>\n",
       "    <tr>\n",
       "      <th>2</th>\n",
       "      <td>1</td>\n",
       "      <td>11.42</td>\n",
       "      <td>20.38</td>\n",
       "      <td>77.58</td>\n",
       "      <td>386.1</td>\n",
       "      <td>0.14250</td>\n",
       "      <td>0.28390</td>\n",
       "      <td>0.24140</td>\n",
       "      <td>0.10520</td>\n",
       "      <td>0.2597</td>\n",
       "      <td>...</td>\n",
       "      <td>14.910</td>\n",
       "      <td>26.50</td>\n",
       "      <td>98.87</td>\n",
       "      <td>567.7</td>\n",
       "      <td>0.20980</td>\n",
       "      <td>0.86630</td>\n",
       "      <td>0.6869</td>\n",
       "      <td>0.2575</td>\n",
       "      <td>0.6638</td>\n",
       "      <td>0.17300</td>\n",
       "    </tr>\n",
       "    <tr>\n",
       "      <th>3</th>\n",
       "      <td>1</td>\n",
       "      <td>20.29</td>\n",
       "      <td>14.34</td>\n",
       "      <td>135.10</td>\n",
       "      <td>1297.0</td>\n",
       "      <td>0.10030</td>\n",
       "      <td>0.13280</td>\n",
       "      <td>0.19800</td>\n",
       "      <td>0.10430</td>\n",
       "      <td>0.1809</td>\n",
       "      <td>...</td>\n",
       "      <td>22.540</td>\n",
       "      <td>16.67</td>\n",
       "      <td>152.20</td>\n",
       "      <td>1575.0</td>\n",
       "      <td>0.13740</td>\n",
       "      <td>0.20500</td>\n",
       "      <td>0.4000</td>\n",
       "      <td>0.1625</td>\n",
       "      <td>0.2364</td>\n",
       "      <td>0.07678</td>\n",
       "    </tr>\n",
       "    <tr>\n",
       "      <th>4</th>\n",
       "      <td>1</td>\n",
       "      <td>12.45</td>\n",
       "      <td>15.70</td>\n",
       "      <td>82.57</td>\n",
       "      <td>477.1</td>\n",
       "      <td>0.12780</td>\n",
       "      <td>0.17000</td>\n",
       "      <td>0.15780</td>\n",
       "      <td>0.08089</td>\n",
       "      <td>0.2087</td>\n",
       "      <td>...</td>\n",
       "      <td>15.470</td>\n",
       "      <td>23.75</td>\n",
       "      <td>103.40</td>\n",
       "      <td>741.6</td>\n",
       "      <td>0.17910</td>\n",
       "      <td>0.52490</td>\n",
       "      <td>0.5355</td>\n",
       "      <td>0.1741</td>\n",
       "      <td>0.3985</td>\n",
       "      <td>0.12440</td>\n",
       "    </tr>\n",
       "    <tr>\n",
       "      <th>...</th>\n",
       "      <td>...</td>\n",
       "      <td>...</td>\n",
       "      <td>...</td>\n",
       "      <td>...</td>\n",
       "      <td>...</td>\n",
       "      <td>...</td>\n",
       "      <td>...</td>\n",
       "      <td>...</td>\n",
       "      <td>...</td>\n",
       "      <td>...</td>\n",
       "      <td>...</td>\n",
       "      <td>...</td>\n",
       "      <td>...</td>\n",
       "      <td>...</td>\n",
       "      <td>...</td>\n",
       "      <td>...</td>\n",
       "      <td>...</td>\n",
       "      <td>...</td>\n",
       "      <td>...</td>\n",
       "      <td>...</td>\n",
       "      <td>...</td>\n",
       "    </tr>\n",
       "    <tr>\n",
       "      <th>563</th>\n",
       "      <td>1</td>\n",
       "      <td>21.56</td>\n",
       "      <td>22.39</td>\n",
       "      <td>142.00</td>\n",
       "      <td>1479.0</td>\n",
       "      <td>0.11100</td>\n",
       "      <td>0.11590</td>\n",
       "      <td>0.24390</td>\n",
       "      <td>0.13890</td>\n",
       "      <td>0.1726</td>\n",
       "      <td>...</td>\n",
       "      <td>25.450</td>\n",
       "      <td>26.40</td>\n",
       "      <td>166.10</td>\n",
       "      <td>2027.0</td>\n",
       "      <td>0.14100</td>\n",
       "      <td>0.21130</td>\n",
       "      <td>0.4107</td>\n",
       "      <td>0.2216</td>\n",
       "      <td>0.2060</td>\n",
       "      <td>0.07115</td>\n",
       "    </tr>\n",
       "    <tr>\n",
       "      <th>564</th>\n",
       "      <td>1</td>\n",
       "      <td>20.13</td>\n",
       "      <td>28.25</td>\n",
       "      <td>131.20</td>\n",
       "      <td>1261.0</td>\n",
       "      <td>0.09780</td>\n",
       "      <td>0.10340</td>\n",
       "      <td>0.14400</td>\n",
       "      <td>0.09791</td>\n",
       "      <td>0.1752</td>\n",
       "      <td>...</td>\n",
       "      <td>23.690</td>\n",
       "      <td>38.25</td>\n",
       "      <td>155.00</td>\n",
       "      <td>1731.0</td>\n",
       "      <td>0.11660</td>\n",
       "      <td>0.19220</td>\n",
       "      <td>0.3215</td>\n",
       "      <td>0.1628</td>\n",
       "      <td>0.2572</td>\n",
       "      <td>0.06637</td>\n",
       "    </tr>\n",
       "    <tr>\n",
       "      <th>565</th>\n",
       "      <td>1</td>\n",
       "      <td>16.60</td>\n",
       "      <td>28.08</td>\n",
       "      <td>108.30</td>\n",
       "      <td>858.1</td>\n",
       "      <td>0.08455</td>\n",
       "      <td>0.10230</td>\n",
       "      <td>0.09251</td>\n",
       "      <td>0.05302</td>\n",
       "      <td>0.1590</td>\n",
       "      <td>...</td>\n",
       "      <td>18.980</td>\n",
       "      <td>34.12</td>\n",
       "      <td>126.70</td>\n",
       "      <td>1124.0</td>\n",
       "      <td>0.11390</td>\n",
       "      <td>0.30940</td>\n",
       "      <td>0.3403</td>\n",
       "      <td>0.1418</td>\n",
       "      <td>0.2218</td>\n",
       "      <td>0.07820</td>\n",
       "    </tr>\n",
       "    <tr>\n",
       "      <th>566</th>\n",
       "      <td>1</td>\n",
       "      <td>20.60</td>\n",
       "      <td>29.33</td>\n",
       "      <td>140.10</td>\n",
       "      <td>1265.0</td>\n",
       "      <td>0.11780</td>\n",
       "      <td>0.27700</td>\n",
       "      <td>0.35140</td>\n",
       "      <td>0.15200</td>\n",
       "      <td>0.2397</td>\n",
       "      <td>...</td>\n",
       "      <td>25.740</td>\n",
       "      <td>39.42</td>\n",
       "      <td>184.60</td>\n",
       "      <td>1821.0</td>\n",
       "      <td>0.16500</td>\n",
       "      <td>0.86810</td>\n",
       "      <td>0.9387</td>\n",
       "      <td>0.2650</td>\n",
       "      <td>0.4087</td>\n",
       "      <td>0.12400</td>\n",
       "    </tr>\n",
       "    <tr>\n",
       "      <th>567</th>\n",
       "      <td>0</td>\n",
       "      <td>7.76</td>\n",
       "      <td>24.54</td>\n",
       "      <td>47.92</td>\n",
       "      <td>181.0</td>\n",
       "      <td>0.05263</td>\n",
       "      <td>0.04362</td>\n",
       "      <td>0.00000</td>\n",
       "      <td>0.00000</td>\n",
       "      <td>0.1587</td>\n",
       "      <td>...</td>\n",
       "      <td>9.456</td>\n",
       "      <td>30.37</td>\n",
       "      <td>59.16</td>\n",
       "      <td>268.6</td>\n",
       "      <td>0.08996</td>\n",
       "      <td>0.06444</td>\n",
       "      <td>0.0000</td>\n",
       "      <td>0.0000</td>\n",
       "      <td>0.2871</td>\n",
       "      <td>0.07039</td>\n",
       "    </tr>\n",
       "  </tbody>\n",
       "</table>\n",
       "<p>568 rows × 31 columns</p>\n",
       "</div>"
      ],
      "text/plain": [
       "     Diagnosis  radius1  texture1  perimeter1   area1  smoothness1  \\\n",
       "0            1    20.57     17.77      132.90  1326.0      0.08474   \n",
       "1            1    19.69     21.25      130.00  1203.0      0.10960   \n",
       "2            1    11.42     20.38       77.58   386.1      0.14250   \n",
       "3            1    20.29     14.34      135.10  1297.0      0.10030   \n",
       "4            1    12.45     15.70       82.57   477.1      0.12780   \n",
       "..         ...      ...       ...         ...     ...          ...   \n",
       "563          1    21.56     22.39      142.00  1479.0      0.11100   \n",
       "564          1    20.13     28.25      131.20  1261.0      0.09780   \n",
       "565          1    16.60     28.08      108.30   858.1      0.08455   \n",
       "566          1    20.60     29.33      140.10  1265.0      0.11780   \n",
       "567          0     7.76     24.54       47.92   181.0      0.05263   \n",
       "\n",
       "     compactness1  concavity1  concave_points1  symmetry1  ...  radius3  \\\n",
       "0         0.07864     0.08690          0.07017     0.1812  ...   24.990   \n",
       "1         0.15990     0.19740          0.12790     0.2069  ...   23.570   \n",
       "2         0.28390     0.24140          0.10520     0.2597  ...   14.910   \n",
       "3         0.13280     0.19800          0.10430     0.1809  ...   22.540   \n",
       "4         0.17000     0.15780          0.08089     0.2087  ...   15.470   \n",
       "..            ...         ...              ...        ...  ...      ...   \n",
       "563       0.11590     0.24390          0.13890     0.1726  ...   25.450   \n",
       "564       0.10340     0.14400          0.09791     0.1752  ...   23.690   \n",
       "565       0.10230     0.09251          0.05302     0.1590  ...   18.980   \n",
       "566       0.27700     0.35140          0.15200     0.2397  ...   25.740   \n",
       "567       0.04362     0.00000          0.00000     0.1587  ...    9.456   \n",
       "\n",
       "     texture3  perimeter3   area3  smoothness3  compactness3  concavity3  \\\n",
       "0       23.41      158.80  1956.0      0.12380       0.18660      0.2416   \n",
       "1       25.53      152.50  1709.0      0.14440       0.42450      0.4504   \n",
       "2       26.50       98.87   567.7      0.20980       0.86630      0.6869   \n",
       "3       16.67      152.20  1575.0      0.13740       0.20500      0.4000   \n",
       "4       23.75      103.40   741.6      0.17910       0.52490      0.5355   \n",
       "..        ...         ...     ...          ...           ...         ...   \n",
       "563     26.40      166.10  2027.0      0.14100       0.21130      0.4107   \n",
       "564     38.25      155.00  1731.0      0.11660       0.19220      0.3215   \n",
       "565     34.12      126.70  1124.0      0.11390       0.30940      0.3403   \n",
       "566     39.42      184.60  1821.0      0.16500       0.86810      0.9387   \n",
       "567     30.37       59.16   268.6      0.08996       0.06444      0.0000   \n",
       "\n",
       "     concave_points3  symmetry3  fractal_dimension3  \n",
       "0             0.1860     0.2750             0.08902  \n",
       "1             0.2430     0.3613             0.08758  \n",
       "2             0.2575     0.6638             0.17300  \n",
       "3             0.1625     0.2364             0.07678  \n",
       "4             0.1741     0.3985             0.12440  \n",
       "..               ...        ...                 ...  \n",
       "563           0.2216     0.2060             0.07115  \n",
       "564           0.1628     0.2572             0.06637  \n",
       "565           0.1418     0.2218             0.07820  \n",
       "566           0.2650     0.4087             0.12400  \n",
       "567           0.0000     0.2871             0.07039  \n",
       "\n",
       "[568 rows x 31 columns]"
      ]
     },
     "execution_count": 1,
     "metadata": {},
     "output_type": "execute_result"
    }
   ],
   "source": [
    "# importing the pandas library\n",
    "import pandas as pd\n",
    "\n",
    "column_names = [\n",
    "    \"ID\", \"Diagnosis\",\n",
    "    \"radius1\", \"texture1\", \"perimeter1\", \"area1\", \"smoothness1\", \"compactness1\", \"concavity1\", \"concave_points1\", \"symmetry1\", \"fractal_dimension1\",\n",
    "    \"radius2\", \"texture2\", \"perimeter2\", \"area2\", \"smoothness2\", \"compactness2\", \"concavity2\", \"concave_points2\", \"symmetry2\", \"fractal_dimension2\",\n",
    "    \"radius3\", \"texture3\", \"perimeter3\", \"area3\", \"smoothness3\", \"compactness3\", \"concavity3\", \"concave_points3\", \"symmetry3\", \"fractal_dimension3\"\n",
    "]\n",
    "\n",
    "\n",
    "# converting existing .csv file to data frame\n",
    "cancer_df = pd.read_csv(\"C:/GitHub/DataScienceMachineLearning/wk_14/data/wdbc.data\")\n",
    "\n",
    "# adding in the column names\n",
    "cancer_df.columns = column_names\n",
    "cancer_df.drop(columns=['ID'], inplace=True)\n",
    "\n",
    "# dropping the categorical feature\n",
    "cancer_df['Diagnosis'] = cancer_df['Diagnosis'].map({'M': 1, 'B': 0})\n",
    "\n",
    "# displaying the data frame\n",
    "cancer_df"
   ]
  },
  {
   "cell_type": "code",
   "execution_count": 2,
   "id": "2ddb8ed1",
   "metadata": {},
   "outputs": [
    {
     "name": "stdout",
     "output_type": "stream",
     "text": [
      "<class 'pandas.core.frame.DataFrame'>\n",
      "RangeIndex: 568 entries, 0 to 567\n",
      "Data columns (total 31 columns):\n",
      " #   Column              Non-Null Count  Dtype  \n",
      "---  ------              --------------  -----  \n",
      " 0   Diagnosis           568 non-null    int64  \n",
      " 1   radius1             568 non-null    float64\n",
      " 2   texture1            568 non-null    float64\n",
      " 3   perimeter1          568 non-null    float64\n",
      " 4   area1               568 non-null    float64\n",
      " 5   smoothness1         568 non-null    float64\n",
      " 6   compactness1        568 non-null    float64\n",
      " 7   concavity1          568 non-null    float64\n",
      " 8   concave_points1     568 non-null    float64\n",
      " 9   symmetry1           568 non-null    float64\n",
      " 10  fractal_dimension1  568 non-null    float64\n",
      " 11  radius2             568 non-null    float64\n",
      " 12  texture2            568 non-null    float64\n",
      " 13  perimeter2          568 non-null    float64\n",
      " 14  area2               568 non-null    float64\n",
      " 15  smoothness2         568 non-null    float64\n",
      " 16  compactness2        568 non-null    float64\n",
      " 17  concavity2          568 non-null    float64\n",
      " 18  concave_points2     568 non-null    float64\n",
      " 19  symmetry2           568 non-null    float64\n",
      " 20  fractal_dimension2  568 non-null    float64\n",
      " 21  radius3             568 non-null    float64\n",
      " 22  texture3            568 non-null    float64\n",
      " 23  perimeter3          568 non-null    float64\n",
      " 24  area3               568 non-null    float64\n",
      " 25  smoothness3         568 non-null    float64\n",
      " 26  compactness3        568 non-null    float64\n",
      " 27  concavity3          568 non-null    float64\n",
      " 28  concave_points3     568 non-null    float64\n",
      " 29  symmetry3           568 non-null    float64\n",
      " 30  fractal_dimension3  568 non-null    float64\n",
      "dtypes: float64(30), int64(1)\n",
      "memory usage: 137.7 KB\n"
     ]
    }
   ],
   "source": [
    "cancer_df.info()"
   ]
  },
  {
   "cell_type": "code",
   "execution_count": 3,
   "id": "320b42a4",
   "metadata": {},
   "outputs": [
    {
     "data": {
      "text/html": [
       "<div>\n",
       "<style scoped>\n",
       "    .dataframe tbody tr th:only-of-type {\n",
       "        vertical-align: middle;\n",
       "    }\n",
       "\n",
       "    .dataframe tbody tr th {\n",
       "        vertical-align: top;\n",
       "    }\n",
       "\n",
       "    .dataframe thead th {\n",
       "        text-align: right;\n",
       "    }\n",
       "</style>\n",
       "<table border=\"1\" class=\"dataframe\">\n",
       "  <thead>\n",
       "    <tr style=\"text-align: right;\">\n",
       "      <th></th>\n",
       "      <th>radius1</th>\n",
       "      <th>texture1</th>\n",
       "      <th>perimeter1</th>\n",
       "      <th>area1</th>\n",
       "      <th>smoothness1</th>\n",
       "      <th>compactness1</th>\n",
       "      <th>concavity1</th>\n",
       "      <th>concave_points1</th>\n",
       "      <th>symmetry1</th>\n",
       "      <th>fractal_dimension1</th>\n",
       "      <th>...</th>\n",
       "      <th>texture3</th>\n",
       "      <th>perimeter3</th>\n",
       "      <th>area3</th>\n",
       "      <th>smoothness3</th>\n",
       "      <th>compactness3</th>\n",
       "      <th>concavity3</th>\n",
       "      <th>concave_points3</th>\n",
       "      <th>symmetry3</th>\n",
       "      <th>fractal_dimension3</th>\n",
       "      <th>Diagnosis</th>\n",
       "    </tr>\n",
       "  </thead>\n",
       "  <tbody>\n",
       "    <tr>\n",
       "      <th>0</th>\n",
       "      <td>1.832084</td>\n",
       "      <td>-0.358327</td>\n",
       "      <td>1.689106</td>\n",
       "      <td>1.910392</td>\n",
       "      <td>-0.825266</td>\n",
       "      <td>-0.485498</td>\n",
       "      <td>-0.019278</td>\n",
       "      <td>0.555261</td>\n",
       "      <td>0.005315</td>\n",
       "      <td>-0.867817</td>\n",
       "      <td>...</td>\n",
       "      <td>-0.371875</td>\n",
       "      <td>1.545063</td>\n",
       "      <td>1.899054</td>\n",
       "      <td>-0.373544</td>\n",
       "      <td>-0.428051</td>\n",
       "      <td>-0.143472</td>\n",
       "      <td>1.095262</td>\n",
       "      <td>-0.240444</td>\n",
       "      <td>0.285294</td>\n",
       "      <td>1</td>\n",
       "    </tr>\n",
       "    <tr>\n",
       "      <th>1</th>\n",
       "      <td>1.582106</td>\n",
       "      <td>0.453860</td>\n",
       "      <td>1.569590</td>\n",
       "      <td>1.560576</td>\n",
       "      <td>0.946192</td>\n",
       "      <td>1.067960</td>\n",
       "      <td>1.375494</td>\n",
       "      <td>2.051509</td>\n",
       "      <td>0.946867</td>\n",
       "      <td>-0.395465</td>\n",
       "      <td>...</td>\n",
       "      <td>-0.026387</td>\n",
       "      <td>1.356695</td>\n",
       "      <td>1.463694</td>\n",
       "      <td>0.530042</td>\n",
       "      <td>1.093192</td>\n",
       "      <td>0.861314</td>\n",
       "      <td>1.966468</td>\n",
       "      <td>1.163858</td>\n",
       "      <td>0.205301</td>\n",
       "      <td>1</td>\n",
       "    </tr>\n",
       "    <tr>\n",
       "      <th>2</th>\n",
       "      <td>-0.767117</td>\n",
       "      <td>0.250813</td>\n",
       "      <td>-0.590772</td>\n",
       "      <td>-0.762711</td>\n",
       "      <td>3.290559</td>\n",
       "      <td>3.438483</td>\n",
       "      <td>1.930879</td>\n",
       "      <td>1.463170</td>\n",
       "      <td>2.881262</td>\n",
       "      <td>4.932714</td>\n",
       "      <td>...</td>\n",
       "      <td>0.131690</td>\n",
       "      <td>-0.246823</td>\n",
       "      <td>-0.547953</td>\n",
       "      <td>3.398711</td>\n",
       "      <td>3.918265</td>\n",
       "      <td>1.999398</td>\n",
       "      <td>2.188090</td>\n",
       "      <td>6.086236</td>\n",
       "      <td>4.950457</td>\n",
       "      <td>1</td>\n",
       "    </tr>\n",
       "  </tbody>\n",
       "</table>\n",
       "<p>3 rows × 31 columns</p>\n",
       "</div>"
      ],
      "text/plain": [
       "    radius1  texture1  perimeter1     area1  smoothness1  compactness1  \\\n",
       "0  1.832084 -0.358327    1.689106  1.910392    -0.825266     -0.485498   \n",
       "1  1.582106  0.453860    1.569590  1.560576     0.946192      1.067960   \n",
       "2 -0.767117  0.250813   -0.590772 -0.762711     3.290559      3.438483   \n",
       "\n",
       "   concavity1  concave_points1  symmetry1  fractal_dimension1  ...  texture3  \\\n",
       "0   -0.019278         0.555261   0.005315           -0.867817  ... -0.371875   \n",
       "1    1.375494         2.051509   0.946867           -0.395465  ... -0.026387   \n",
       "2    1.930879         1.463170   2.881262            4.932714  ...  0.131690   \n",
       "\n",
       "   perimeter3     area3  smoothness3  compactness3  concavity3  \\\n",
       "0    1.545063  1.899054    -0.373544     -0.428051   -0.143472   \n",
       "1    1.356695  1.463694     0.530042      1.093192    0.861314   \n",
       "2   -0.246823 -0.547953     3.398711      3.918265    1.999398   \n",
       "\n",
       "   concave_points3  symmetry3  fractal_dimension3  Diagnosis  \n",
       "0         1.095262  -0.240444            0.285294          1  \n",
       "1         1.966468   1.163858            0.205301          1  \n",
       "2         2.188090   6.086236            4.950457          1  \n",
       "\n",
       "[3 rows x 31 columns]"
      ]
     },
     "execution_count": 3,
     "metadata": {},
     "output_type": "execute_result"
    }
   ],
   "source": [
    "# importing the standard scaler library\n",
    "from sklearn.preprocessing import StandardScaler\n",
    "\n",
    "# removing the target variable\n",
    "dropped_df = cancer_df.drop(columns=['Diagnosis'])\n",
    "\n",
    "# creating a scaler object\n",
    "scaler = StandardScaler()\n",
    "\n",
    "# performing the standardization process\n",
    "scaled = scaler.fit_transform(dropped_df)\n",
    "cancer_scaled_df = pd.DataFrame(scaled, columns=dropped_df.columns)\n",
    "cancer_scaled_df['Diagnosis'] = cancer_df['Diagnosis'].values\n",
    "\n",
    "# viewing the new dataframe\n",
    "cancer_scaled_df.head(3)\n"
   ]
  },
  {
   "cell_type": "markdown",
   "id": "567f7140",
   "metadata": {},
   "source": [
    "### <font color = '#FF8C00'> Characterizing the Dependent Variable </font>\n",
    "Next, we move to characterize the dependent variable by plotting a bar chart of the diagnosis values. "
   ]
  },
  {
   "cell_type": "code",
   "execution_count": 4,
   "id": "3936e79f",
   "metadata": {},
   "outputs": [
    {
     "name": "stdout",
     "output_type": "stream",
     "text": [
      "Number of Values:  Diagnosis\n",
      "0    357\n",
      "1    211\n",
      "Name: count, dtype: int64\n"
     ]
    },
    {
     "data": {
      "image/png": "[encoded data removed]",
      "text/plain": [
       "<Figure size 600x400 with 1 Axes>"
      ]
     },
     "metadata": {},
     "output_type": "display_data"
    }
   ],
   "source": [
    "# importing the matplotlib library\n",
    "import matplotlib.pyplot as plt\n",
    "\n",
    "# counting the occurrences of dependent variable\n",
    "categorical_count = cancer_scaled_df['Diagnosis'].value_counts()\n",
    "print(\"Number of Values: \", categorical_count)\n",
    "\n",
    "# plotting a bar chart\n",
    "plt.figure(figsize=(6, 4))\n",
    "categorical_count.plot(kind='bar')\n",
    "plt.title(\"Occurences of Breast Tissue\")\n",
    "plt.xlabel(\"Breast Tissue\")\n",
    "plt.ylabel(\"Occurences\")\n",
    "plt.savefig('C:/GitHub/DataScienceMachineLearning/wk_14/plots/breast_tissue.png', dpi=300, bbox_inches='tight')\n",
    "plt.show()\n"
   ]
  },
  {
   "cell_type": "markdown",
   "id": "bdb4e704",
   "metadata": {},
   "source": [
    "## <font color = '#FF8C00'> Section 2 </font> | Experimental Approach\n",
    "Now, we perform a train / test split using a 70 : 30 ratio. \n"
   ]
  },
  {
   "cell_type": "code",
   "execution_count": 5,
   "id": "c4a4215f",
   "metadata": {},
   "outputs": [],
   "source": [
    "# importing the train/test library\n",
    "from sklearn.model_selection import train_test_split\n",
    "\n",
    "# setting up the features and target variable\n",
    "X = cancer_scaled_df.drop(columns=['Diagnosis'])\n",
    "y = cancer_scaled_df['Diagnosis']\n",
    "\n",
    "# performing the stratified split\n",
    "X_train, X_test, y_train, y_test = train_test_split(\n",
    "    X, y,\n",
    "    test_size = 0.3,\n",
    "    random_state=42,\n",
    "    stratify=y\n",
    ")"
   ]
  },
  {
   "cell_type": "code",
   "execution_count": 22,
   "id": "3e7f4b47",
   "metadata": {},
   "outputs": [
    {
     "name": "stdout",
     "output_type": "stream",
     "text": [
      "Each fold will have ~56 rows.\n"
     ]
    }
   ],
   "source": [
    "# finding total number of rows\n",
    "k = 10\n",
    "total_rows = len(cancer_scaled_df)\n",
    "\n",
    "# finding the total number of rows per fold\n",
    "rows_per_fold = total_rows // k\n",
    "print(f\"Each fold will have ~{rows_per_fold} rows.\")"
   ]
  },
  {
   "cell_type": "markdown",
   "id": "2e54ad98",
   "metadata": {},
   "source": [
    "## <font color = '#FF8C00'> Section 3 </font> | The Modeling Stage\n",
    "In this section, we build three models using 10 fold cross validation, a logistic regression with all features, a \"greedy\" logistic regression that adds features only if they improve cross-validated accuracy, and a random forest using all features. Next, we statistically compare their accuracies, retrain the best model on the full training set, evaluate it from the test set, and report its ROC curve and AUC."
   ]
  },
  {
   "cell_type": "code",
   "execution_count": 6,
   "id": "a1702c33",
   "metadata": {},
   "outputs": [],
   "source": [
    "# importing all required libraries\n",
    "from sklearn.model_selection import cross_val_score\n",
    "from sklearn.linear_model import LogisticRegression\n",
    "from sklearn.preprocessing import StandardScaler\n",
    "from sklearn.pipeline import make_pipeline"
   ]
  },
  {
   "cell_type": "markdown",
   "id": "90a783f3",
   "metadata": {},
   "source": [
    "### <font color = '#FF8C00'> Baseline Logistic Regression Model </font>\n",
    "To start, we use 10-fold cross validation to create and assess a logistic regression baseline model that uses all standardized features. "
   ]
  },
  {
   "cell_type": "code",
   "execution_count": 7,
   "id": "35600103",
   "metadata": {},
   "outputs": [
    {
     "name": "stdout",
     "output_type": "stream",
     "text": [
      "Cross Validation Scores:  [0.95       1.         0.95       1.         1.         1.\n",
      " 0.925      0.94871795 0.94871795 0.94871795]\n"
     ]
    }
   ],
   "source": [
    "# building the model pipeline\n",
    "model = make_pipeline(StandardScaler(), LogisticRegression(max_iter=1000))\n",
    "\n",
    "# performing the 10 fold cross validation model on the training set\n",
    "ten_cv_scores = cross_val_score(model, X_train, y_train, cv=10, scoring='accuracy')\n",
    "\n",
    "# printing out the scores\n",
    "print(\"Cross Validation Scores: \", ten_cv_scores)"
   ]
  },
  {
   "cell_type": "markdown",
   "id": "f45a9264",
   "metadata": {},
   "source": [
    "### <font color = '#FF8C00'> Greedy Logistics Regression </font>\n",
    "Now, we build a logistic regression model by evaluating each feature individually using 10 fold cross-validation, then ranking them by accuracy. Starting with the best-performing feature, we add the other features one by one, keeping only the ones that increase the model's average cross-validated accuracy. "
   ]
  },
  {
   "cell_type": "code",
   "execution_count": 8,
   "id": "e2ae3119",
   "metadata": {},
   "outputs": [],
   "source": [
    "# dictionary for scores\n",
    "individual_scores = {}\n",
    "\n",
    "# for looping through the features\n",
    "for feature in X.columns:\n",
    "    model = make_pipeline(StandardScaler(), LogisticRegression(max_iter=1000))\n",
    "    scores = cross_val_score(model, X_train[[feature]], y_train, cv=10, scoring='accuracy')\n",
    "    individual_scores[feature] = scores.mean()\n",
    "\n",
    "# sorting the features in descending order\n",
    "sorted_features = sorted(individual_scores.items(), key=lambda x: x[1], reverse=True)"
   ]
  },
  {
   "cell_type": "code",
   "execution_count": 9,
   "id": "a6978204",
   "metadata": {},
   "outputs": [
    {
     "name": "stdout",
     "output_type": "stream",
     "text": [
      "['area3', 'perimeter3', 'concave_points1', 'concave_points3', 'area2', 'concavity3', 'texture3', 'smoothness1']\n"
     ]
    }
   ],
   "source": [
    "# list for selecting best features\n",
    "selected_features = []\n",
    "best_accuracy = 0\n",
    "\n",
    "\n",
    "# the greedy selection process\n",
    "for feature, score in sorted_features:\n",
    "    trial_features = selected_features + [feature]\n",
    "    trial_X = X[trial_features].loc[X_train.index] \n",
    "\n",
    "    model = make_pipeline(StandardScaler(), LogisticRegression(max_iter=1000))\n",
    "    scores = cross_val_score(model, trial_X, y_train, cv=10, scoring='accuracy')\n",
    "    mean_value = scores.mean()\n",
    "\n",
    "    # if function for checking if best accuracy or not\n",
    "    if mean_value > best_accuracy:\n",
    "        selected_features.append(feature)\n",
    "        best_accuracy = mean_value\n",
    "\n",
    "# printing out all selected features\n",
    "print(selected_features)"
   ]
  },
  {
   "cell_type": "code",
   "execution_count": 10,
   "id": "83a331e8",
   "metadata": {},
   "outputs": [
    {
     "name": "stdout",
     "output_type": "stream",
     "text": [
      "[0.98245614 0.94736842 0.96491228 0.96491228 0.98245614 0.98245614\n",
      " 0.92982456 0.98245614 1.         0.96428571]\n"
     ]
    }
   ],
   "source": [
    "# selected features\n",
    "X_greedy = X[selected_features]\n",
    "\n",
    "# running the ten fold cross validation process\n",
    "greedy_model = make_pipeline(StandardScaler(), LogisticRegression(max_iter=1000))\n",
    "greedy_scores = cross_val_score(greedy_model, X_greedy, y, cv=10, scoring='accuracy')\n",
    "\n",
    "# printing out the scores\n",
    "print(greedy_scores)"
   ]
  },
  {
   "cell_type": "markdown",
   "id": "43031c26",
   "metadata": {},
   "source": [
    "### <font color = '#FF8C00'> Random Forest Classifier </font>\n",
    "Lastly, we use a 10 fold cross validation to create and assess a random forest classifier that uses all standardized features. "
   ]
  },
  {
   "cell_type": "code",
   "execution_count": 11,
   "id": "52b855dc",
   "metadata": {},
   "outputs": [
    {
     "name": "stdout",
     "output_type": "stream",
     "text": [
      "Ranfom Forest Accuracies:  [1.         0.975      0.975      1.         0.9        0.975\n",
      " 0.95       0.92307692 0.8974359  0.94871795]\n"
     ]
    }
   ],
   "source": [
    "# importing the random forest classifier library\n",
    "from sklearn.ensemble import RandomForestClassifier\n",
    "\n",
    "# creating the random forest model\n",
    "rf_model = make_pipeline(StandardScaler(), RandomForestClassifier(n_estimators=100, random_state=42))\n",
    "\n",
    "# performing a 10 fold cross validation\n",
    "rf_scores = cross_val_score(rf_model, X_train, y_train, cv=10, scoring='accuracy')\n",
    "\n",
    "# printing out the results\n",
    "print(\"Ranfom Forest Accuracies: \", rf_scores)"
   ]
  },
  {
   "cell_type": "markdown",
   "id": "767221fe",
   "metadata": {},
   "source": [
    "### <font color = '#FF8C00'> Running Statistical Comparison & Plotting </font>\n",
    "Now, we run a statistical comparison between the accuracy of the three models. We identify if there is evidence to support one model being \"best\". We then report the \"p-values\" and plot the accuracy and standard deviation of the two models. "
   ]
  },
  {
   "cell_type": "code",
   "execution_count": 12,
   "id": "79ef20c5",
   "metadata": {},
   "outputs": [
    {
     "name": "stdout",
     "output_type": "stream",
     "text": [
      "P1 Score:  0.78082397168091\n",
      "P2 Scores:  0.33647337842450925\n",
      "P3 Scores:  0.3754565298863628\n"
     ]
    }
   ],
   "source": [
    "# importing the required libraries\n",
    "import numpy as np\n",
    "from scipy.stats import ttest_rel\n",
    "\n",
    "# converting scores into numpy array\n",
    "baseline_lr_scores = np.array(ten_cv_scores)\n",
    "greedy_model_scores = np.array(greedy_scores)\n",
    "random_forest_model_scores = np.array(rf_scores)\n",
    "\n",
    "# baseline lr model vs greedy model\n",
    "t1, p1 = ttest_rel(baseline_lr_scores, greedy_model_scores)\n",
    "print(\"P1 Score: \", p1)\n",
    "\n",
    "# greedy model vs random forest model\n",
    "t2, p2 = ttest_rel(greedy_model_scores, random_forest_model_scores)\n",
    "print(\"P2 Scores: \", p2)\n",
    "\n",
    "# baseline lr model vs rf model\n",
    "t3, p3 = ttest_rel(baseline_lr_scores, random_forest_model_scores)\n",
    "print(\"P3 Scores: \", p3)\n",
    "\n"
   ]
  },
  {
   "cell_type": "code",
   "execution_count": 13,
   "id": "83232299",
   "metadata": {},
   "outputs": [
    {
     "data": {
      "image/png": "[encoded data removed]",
      "text/plain": [
       "<Figure size 800x500 with 1 Axes>"
      ]
     },
     "metadata": {},
     "output_type": "display_data"
    }
   ],
   "source": [
    "# importing the seaborn library\n",
    "import seaborn as sns\n",
    "\n",
    "# setting up the data and labels\n",
    "data = [baseline_lr_scores, greedy_model_scores, random_forest_model_scores]\n",
    "labels = ['Logistic Regression', 'Greedy Logistic Regression', 'Random Forest']\n",
    "\n",
    "# plotting out the box plot\n",
    "plt.figure(figsize=(8, 5))\n",
    "plt.boxplot(data, tick_labels=labels, patch_artist=True, boxprops=dict(facecolor='lightblue'), medianprops=dict(color='black'))\n",
    "\n",
    "plt.title('10 Fold CV Accuracy Distribution by Model')\n",
    "plt.ylabel('Accuracy')\n",
    "plt.xlabel('Models')\n",
    "\n",
    "# save the plot and show it\n",
    "plt.savefig('C:/GitHub/DataScienceMachineLearning/wk_14/plots/box_plots.png', dpi=300, bbox_inches='tight')\n",
    "plt.show()"
   ]
  },
  {
   "cell_type": "code",
   "execution_count": 19,
   "id": "548c78fd",
   "metadata": {},
   "outputs": [
    {
     "name": "stdout",
     "output_type": "stream",
     "text": [
      "Logistic Regression: 0.9671153846153846\n",
      "Greedy Logistic Regression: 0.9701127819548871\n",
      "Random Forest: 0.954423076923077\n"
     ]
    }
   ],
   "source": [
    "print(f\"Logistic Regression: {baseline_lr_scores.mean()}\")\n",
    "print(f\"Greedy Logistic Regression: {greedy_model_scores.mean()}\")\n",
    "print(f\"Random Forest: {random_forest_model_scores.mean()}\")"
   ]
  },
  {
   "cell_type": "markdown",
   "id": "dcf2dcd8",
   "metadata": {},
   "source": [
    "### <font color = '#FF8C00'> Retraining Best Performing Model (Greedy Logisitic Regression) </font>\n",
    "Now, we move to retrain the best peforming model using all the training data, and then evaluate the model's performance on the test set. We display the accuracy and then plot the ROC curve. "
   ]
  },
  {
   "cell_type": "code",
   "execution_count": 15,
   "id": "399a0a61",
   "metadata": {},
   "outputs": [
    {
     "name": "stdout",
     "output_type": "stream",
     "text": [
      "The Test Accuracy  0.9649122807017544\n"
     ]
    }
   ],
   "source": [
    "# importing the required libraries\n",
    "from sklearn.metrics import accuracy_score, roc_curve, roc_auc_score\n",
    "\n",
    "# using the selected features\n",
    "X_train_greedy = X_train[selected_features]\n",
    "X_test_greedy = X_test[selected_features]\n",
    "\n",
    "# training the greedy logistic regression model\n",
    "final_greedy_model = make_pipeline(StandardScaler(), LogisticRegression(max_iter=1000))\n",
    "final_greedy_model.fit(X_train_greedy, y_train)\n",
    "\n",
    "# performing predictions on the test set\n",
    "y_test_pred = final_greedy_model.predict(X_test_greedy)\n",
    "y_test_prob = final_greedy_model.predict_proba(X_test_greedy)[:, 1]\n",
    "\n",
    "# finding the test accuracy\n",
    "test_accuracy = accuracy_score(y_test, y_test_pred)\n",
    "print(\"The Test Accuracy \", test_accuracy)"
   ]
  },
  {
   "cell_type": "code",
   "execution_count": 16,
   "id": "f4bf0770",
   "metadata": {},
   "outputs": [
    {
     "data": {
      "image/png": "[encoded data removed]",
      "text/plain": [
       "<Figure size 800x600 with 1 Axes>"
      ]
     },
     "metadata": {},
     "output_type": "display_data"
    }
   ],
   "source": [
    "# using roc_curve and roc_auc_score\n",
    "false_positive_rate, true_positive_rate, thresholds = roc_curve(y_test, y_test_prob)\n",
    "auc_score = roc_auc_score(y_test, y_test_prob)\n",
    "\n",
    "# plotting out the results\n",
    "plt.figure(figsize=(8, 6))\n",
    "plt.plot(false_positive_rate, true_positive_rate, label=f'ROC Curve where AUC = {auc_score}', linewidth=2)\n",
    "plt.plot([0, 1], [0, 1], 'k--', label='Random Guess')\n",
    "\n",
    "# adding in the plot details\n",
    "plt.xlabel('False Positive Rate')\n",
    "plt.ylabel('True Positive Rate')\n",
    "plt.title('ROC Curve for Greedy Logistic Regression')\n",
    "plt.legend(loc='lower right')\n",
    "\n",
    "# saving and displaying the plot\n",
    "plt.savefig('C:/GitHub/DataScienceMachineLearning/wk_14/plots/roc_curve.png', dpi=300, bbox_inches='tight')\n",
    "plt.show()"
   ]
  },
  {
   "cell_type": "markdown",
   "id": "b1b79f9e",
   "metadata": {},
   "source": [
    "### <font color = '#FF8C00'> Retraining Random Forest </font>\n",
    "Now, we retrain a single random forest on all of the training data and examine the feature_importances of the random forest."
   ]
  },
  {
   "cell_type": "code",
   "execution_count": 23,
   "id": "3fdb75a9",
   "metadata": {},
   "outputs": [
    {
     "name": "stdout",
     "output_type": "stream",
     "text": [
      "['concave_points1', 'area3', 'concave_points3', 'perimeter3', 'radius3', 'concavity1', 'perimeter1', 'radius1', 'area1', 'concavity3']\n"
     ]
    }
   ],
   "source": [
    "# training random forest model\n",
    "rf_model = RandomForestClassifier(random_state=42)\n",
    "rf_model.fit(X_train, y_train)\n",
    "\n",
    "# retrieving the feature importances\n",
    "importances = pd.Series(rf_model.feature_importances_, index=X_train.columns)\n",
    "sorted_importances = importances.sort_values(ascending=False)\n",
    "\n",
    "# finding the top ten features\n",
    "top_rf_features = sorted_importances.head(10).index.tolist()\n",
    "print(top_rf_features)"
   ]
  },
  {
   "cell_type": "code",
   "execution_count": 26,
   "id": "8684f92d",
   "metadata": {},
   "outputs": [
    {
     "name": "stdout",
     "output_type": "stream",
     "text": [
      "Different Features:  ['radius1', 'perimeter1', 'concavity1', 'radius3', 'area1']\n",
      "Common Features:  ['concave_points1', 'concave_points3', 'concavity3', 'perimeter3', 'area3']\n"
     ]
    }
   ],
   "source": [
    "# finding differing features\n",
    "different_features = list(set(top_rf_features) - set(selected_features))\n",
    "print(\"Different Features: \", different_features)\n",
    "\n",
    "# finding features in common\n",
    "common_features = list(set(top_rf_features) & set(selected_features))\n",
    "print(\"Common Features: \", common_features)\n"
   ]
  },
  {
   "cell_type": "markdown",
   "id": "b0ccc29c",
   "metadata": {},
   "source": [
    "## <font color = '#FF8C00'> Answers to Questions </font> \n",
    "\n",
    "### Answers to Section 1 Questions\n",
    "**Question 1:** Looking at the dataset, we know that it consists of 32 features and 568 observations. The `ID` feature is categorical and is most likely the `ID` of the patient. The `Diagnosis` feature is categorical and tells us if the patient has Benign or Malignant breast tissue. The rest of the 30 features gives us more details about the breast tissue, such as the area, smoothness and many more. For this dataset, we consider the target varibale as the `Diagnosis`.\n",
    "\n",
    "### Answers to Section 2 Questions\n",
    "**Question 1:** On average, each fold will have 56 rows\n",
    "\n",
    "### Answers to Section 3 Questions\n",
    "**Question 1:** there was no statistically significant evidence that any of the models was the \"best\". Looking at the p-values, all of them were greater than 0.05, which meant none of the models were statistically significant.\n",
    "\n",
    "**Question 2:** The greedy logistic regression model and random forest model selected the following features in common: `concave_points1`, `concave_points3`, `concavity3`, `perimeter3`, `area3`. However, some of the features that were in one model and not the other were `radius1`, `perimeter1`, `concavity1`, `radius3`, `area1`. The greedy logistic regression model was the better model due to having the higher cross-validation accuracy of 0.97.  This means the greedy logisitc regression model is effective at identifying predictive features.\n",
    "\n"
   ]
  },
  {
   "cell_type": "markdown",
   "id": "58d1c4fe",
   "metadata": {},
   "source": [
    "### <font color = '#FF8C00'> Small Note </font> \n",
    "This is my last lab submission for the course CSC 2621: Introduction to Data Science. When I first started this course, I wasn't sure what I was going to learn. As I worked through these labs, I learnt not just a lot about data science but how math and computer science intersect to produce understanding of datasets through visualization and hypothesis testing, which allows us to come to meaningful results that can be derived from datasets. After this course, I would like to explore data science even further and look more into how I can use other tehcnologies such as SQL, R and Cloud technologies. I would love to explore into how the results I derive can have real-world impacts, which I look forward to doing in the form of personal projects over the summer."
   ]
  }
 ],
 "metadata": {
  "kernelspec": {
   "display_name": "dataScienceEnv",
   "language": "python",
   "name": "datascienceenv"
  },
  "language_info": {
   "codemirror_mode": {
    "name": "ipython",
    "version": 3
   },
   "file_extension": ".py",
   "mimetype": "text/x-python",
   "name": "python",
   "nbconvert_exporter": "python",
   "pygments_lexer": "ipython3",
   "version": "3.13.1"
  }
 },
 "nbformat": 4,
 "nbformat_minor": 5
}
